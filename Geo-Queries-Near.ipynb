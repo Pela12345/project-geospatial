{
 "cells": [
  {
   "cell_type": "markdown",
   "metadata": {},
   "source": [
    "## Importing Libraries and downloading data with pymongo, converting the clean query into a dataframe"
   ]
  },
  {
   "cell_type": "code",
   "execution_count": 376,
   "metadata": {},
   "outputs": [
    {
     "data": {
      "text/plain": [
       "(2939, 10)"
      ]
     },
     "execution_count": 376,
     "metadata": {},
     "output_type": "execute_result"
    }
   ],
   "source": [
    "from pymongo import MongoClient\n",
    "import pandas as pd\n",
    "import requests\n",
    "import os\n",
    "from dotenv import load_dotenv\n",
    "load_dotenv()\n",
    "\n",
    "client = MongoClient('mongodb://localhost:27017/')\n",
    "db = client.GeoComps\n",
    "a=db.GeoComps.find()\n",
    "b=pd.DataFrame(a)\n",
    "b[\"headquarters\"].head()\n",
    "b.shape"
   ]
  },
  {
   "cell_type": "code",
   "execution_count": 377,
   "metadata": {},
   "outputs": [
    {
     "data": {
      "text/html": [
       "<div>\n",
       "<style scoped>\n",
       "    .dataframe tbody tr th:only-of-type {\n",
       "        vertical-align: middle;\n",
       "    }\n",
       "\n",
       "    .dataframe tbody tr th {\n",
       "        vertical-align: top;\n",
       "    }\n",
       "\n",
       "    .dataframe thead th {\n",
       "        text-align: right;\n",
       "    }\n",
       "</style>\n",
       "<table border=\"1\" class=\"dataframe\">\n",
       "  <thead>\n",
       "    <tr style=\"text-align: right;\">\n",
       "      <th></th>\n",
       "      <th>age</th>\n",
       "      <th>category_code</th>\n",
       "      <th>country</th>\n",
       "      <th>founded_year</th>\n",
       "      <th>headquarters</th>\n",
       "      <th>lat</th>\n",
       "      <th>lng</th>\n",
       "      <th>name</th>\n",
       "      <th>number_of_employees</th>\n",
       "    </tr>\n",
       "  </thead>\n",
       "  <tbody>\n",
       "    <tr>\n",
       "      <th>0</th>\n",
       "      <td>Old</td>\n",
       "      <td>web</td>\n",
       "      <td>USA</td>\n",
       "      <td>2006</td>\n",
       "      <td>{'type': 'Point', 'coordinates': [-118.393064,...</td>\n",
       "      <td>34.090368</td>\n",
       "      <td>-118.393064</td>\n",
       "      <td>Geni</td>\n",
       "      <td>18</td>\n",
       "    </tr>\n",
       "    <tr>\n",
       "      <th>1</th>\n",
       "      <td>Old</td>\n",
       "      <td>web</td>\n",
       "      <td>USA</td>\n",
       "      <td>2005</td>\n",
       "      <td>{'type': 'Point', 'coordinates': [-121.907768,...</td>\n",
       "      <td>37.697805</td>\n",
       "      <td>-121.907768</td>\n",
       "      <td>Jangl SMS</td>\n",
       "      <td>22</td>\n",
       "    </tr>\n",
       "    <tr>\n",
       "      <th>2</th>\n",
       "      <td>Old</td>\n",
       "      <td>web</td>\n",
       "      <td>USA</td>\n",
       "      <td>2005</td>\n",
       "      <td>{'type': 'Point', 'coordinates': [-122.333253,...</td>\n",
       "      <td>47.603122</td>\n",
       "      <td>-122.333253</td>\n",
       "      <td>Wetpaint</td>\n",
       "      <td>47</td>\n",
       "    </tr>\n",
       "    <tr>\n",
       "      <th>3</th>\n",
       "      <td>Old</td>\n",
       "      <td>mobile</td>\n",
       "      <td>USA</td>\n",
       "      <td>2005</td>\n",
       "      <td>{'type': 'Point', 'coordinates': [-122.173887,...</td>\n",
       "      <td>37.480999</td>\n",
       "      <td>-122.173887</td>\n",
       "      <td>Jingle Networks</td>\n",
       "      <td>35</td>\n",
       "    </tr>\n",
       "    <tr>\n",
       "      <th>4</th>\n",
       "      <td>Old</td>\n",
       "      <td>web</td>\n",
       "      <td>USA</td>\n",
       "      <td>2002</td>\n",
       "      <td>{'type': 'Point', 'coordinates': [-73.995722, ...</td>\n",
       "      <td>40.726040</td>\n",
       "      <td>-73.995722</td>\n",
       "      <td>Meetup</td>\n",
       "      <td>75</td>\n",
       "    </tr>\n",
       "  </tbody>\n",
       "</table>\n",
       "</div>"
      ],
      "text/plain": [
       "   age category_code country  founded_year  \\\n",
       "0  Old           web     USA          2006   \n",
       "1  Old           web     USA          2005   \n",
       "2  Old           web     USA          2005   \n",
       "3  Old        mobile     USA          2005   \n",
       "4  Old           web     USA          2002   \n",
       "\n",
       "                                        headquarters        lat         lng  \\\n",
       "0  {'type': 'Point', 'coordinates': [-118.393064,...  34.090368 -118.393064   \n",
       "1  {'type': 'Point', 'coordinates': [-121.907768,...  37.697805 -121.907768   \n",
       "2  {'type': 'Point', 'coordinates': [-122.333253,...  47.603122 -122.333253   \n",
       "3  {'type': 'Point', 'coordinates': [-122.173887,...  37.480999 -122.173887   \n",
       "4  {'type': 'Point', 'coordinates': [-73.995722, ...  40.726040  -73.995722   \n",
       "\n",
       "              name  number_of_employees  \n",
       "0             Geni                   18  \n",
       "1        Jangl SMS                   22  \n",
       "2         Wetpaint                   47  \n",
       "3  Jingle Networks                   35  \n",
       "4           Meetup                   75  "
      ]
     },
     "execution_count": 377,
     "metadata": {},
     "output_type": "execute_result"
    }
   ],
   "source": [
    "b.drop(columns=['_id'], inplace=True)\n",
    "b.head()"
   ]
  },
  {
   "cell_type": "markdown",
   "metadata": {},
   "source": [
    "### Choosing a radius of 2000 for my geoqueries, and testing the geopoint variable"
   ]
  },
  {
   "cell_type": "code",
   "execution_count": 378,
   "metadata": {},
   "outputs": [
    {
     "data": {
      "text/plain": [
       "{'type': 'Point', 'coordinates': [-118.393064, 34.090368]}"
      ]
     },
     "execution_count": 378,
     "metadata": {},
     "output_type": "execute_result"
    }
   ],
   "source": [
    "radio=2000\n",
    "geopoint=b[\"headquarters\"][0]\n",
    "geopoint"
   ]
  },
  {
   "cell_type": "markdown",
   "metadata": {},
   "source": [
    "## Creating a Find Near function to obtain data given a geopoint and a radius, testing that it works"
   ]
  },
  {
   "cell_type": "code",
   "execution_count": 379,
   "metadata": {},
   "outputs": [
    {
     "data": {
      "text/plain": [
       "[{'_id': ObjectId('5d2759fa6497a5d8bff314d3'),\n",
       "  'name': 'Geni',\n",
       "  'lat': 34.090368,\n",
       "  'lng': -118.393064,\n",
       "  'country': 'USA',\n",
       "  'headquarters': {'type': 'Point', 'coordinates': [-118.393064, 34.090368]},\n",
       "  'number_of_employees': 18,\n",
       "  'category_code': 'web',\n",
       "  'founded_year': 2006,\n",
       "  'age': 'Old'},\n",
       " {'_id': ObjectId('5d2759fa6497a5d8bff31ba1'),\n",
       "  'name': 'MyFreeImplants',\n",
       "  'lat': 34.087825,\n",
       "  'lng': -118.379493,\n",
       "  'country': 'USA',\n",
       "  'headquarters': {'type': 'Point', 'coordinates': [-118.379493, 34.087825]},\n",
       "  'number_of_employees': 2,\n",
       "  'category_code': 'network_hosting',\n",
       "  'founded_year': 2005,\n",
       "  'age': 'Old'},\n",
       " {'_id': ObjectId('5d2759fa6497a5d8bff31b66'),\n",
       "  'name': 'Meteor Games',\n",
       "  'lat': 34.09316,\n",
       "  'lng': -118.378335,\n",
       "  'country': 'USA',\n",
       "  'headquarters': {'type': 'Point', 'coordinates': [-118.378335, 34.09316]},\n",
       "  'number_of_employees': 70,\n",
       "  'category_code': 'games_video',\n",
       "  'founded_year': 2007,\n",
       "  'age': 'Old'},\n",
       " {'_id': ObjectId('5d2759fa6497a5d8bff31d19'),\n",
       "  'name': 'BookBump',\n",
       "  'lat': 34.075162,\n",
       "  'lng': -118.398632,\n",
       "  'country': 'USA',\n",
       "  'headquarters': {'type': 'Point', 'coordinates': [-118.398632, 34.075162]},\n",
       "  'number_of_employees': 3,\n",
       "  'category_code': 'web',\n",
       "  'founded_year': 2006,\n",
       "  'age': 'Old'},\n",
       " {'_id': ObjectId('5d2759fa6497a5d8bff31766'),\n",
       "  'name': 'IdiotsTrafficSchool',\n",
       "  'lat': 34.090373,\n",
       "  'lng': -118.373868,\n",
       "  'country': 'USA',\n",
       "  'headquarters': {'type': 'Point', 'coordinates': [-118.373868, 34.090373]},\n",
       "  'number_of_employees': 4,\n",
       "  'category_code': 'web',\n",
       "  'founded_year': 2006,\n",
       "  'age': 'Old'}]"
      ]
     },
     "execution_count": 379,
     "metadata": {},
     "output_type": "execute_result"
    }
   ],
   "source": [
    "def findNear(geopoint,radio):\n",
    "     return list(db.GeoComps.find({\n",
    "        \"headquarters\": {\n",
    "         \"$near\": {\n",
    "           \"$geometry\": geopoint,\n",
    "           \"$maxDistance\": radio,\n",
    "         }\n",
    "       }\n",
    "    }))\n",
    "geopoint=b[\"headquarters\"][0]\n",
    "lst=findNear(geopoint,radio)\n",
    "lst"
   ]
  },
  {
   "cell_type": "markdown",
   "metadata": {},
   "source": [
    "## Creating a function to sum all the employees of companies that are near each companies, testing that it works"
   ]
  },
  {
   "cell_type": "code",
   "execution_count": 380,
   "metadata": {},
   "outputs": [
    {
     "data": {
      "text/plain": [
       "97"
      ]
     },
     "execution_count": 380,
     "metadata": {},
     "output_type": "execute_result"
    }
   ],
   "source": [
    "def sum_employees(lst):\n",
    "    suma=0\n",
    "    for i in lst:\n",
    "        suma+= i[\"number_of_employees\"]\n",
    "    return suma\n",
    "\n",
    "n=sum_employees(lst)\n",
    "n\n"
   ]
  },
  {
   "cell_type": "markdown",
   "metadata": {},
   "source": [
    "## Combining both function to obtain a list of the total number of employees near, appending this column to the original dataframe"
   ]
  },
  {
   "cell_type": "code",
   "execution_count": 381,
   "metadata": {},
   "outputs": [],
   "source": [
    "sum_column=[]\n",
    "for i in range(len(b)):\n",
    "    geopoint=b[\"headquarters\"][i]\n",
    "    lost=findNear(geopoint,radio)\n",
    "    n=sum_employees(lost)\n",
    "    sum_column.append(n)\n"
   ]
  },
  {
   "cell_type": "code",
   "execution_count": 382,
   "metadata": {},
   "outputs": [],
   "source": [
    "b[\"Employees_Near\"]=sum_column"
   ]
  },
  {
   "cell_type": "code",
   "execution_count": 383,
   "metadata": {},
   "outputs": [
    {
     "data": {
      "text/html": [
       "<div>\n",
       "<style scoped>\n",
       "    .dataframe tbody tr th:only-of-type {\n",
       "        vertical-align: middle;\n",
       "    }\n",
       "\n",
       "    .dataframe tbody tr th {\n",
       "        vertical-align: top;\n",
       "    }\n",
       "\n",
       "    .dataframe thead th {\n",
       "        text-align: right;\n",
       "    }\n",
       "</style>\n",
       "<table border=\"1\" class=\"dataframe\">\n",
       "  <thead>\n",
       "    <tr style=\"text-align: right;\">\n",
       "      <th></th>\n",
       "      <th>age</th>\n",
       "      <th>category_code</th>\n",
       "      <th>country</th>\n",
       "      <th>founded_year</th>\n",
       "      <th>headquarters</th>\n",
       "      <th>lat</th>\n",
       "      <th>lng</th>\n",
       "      <th>name</th>\n",
       "      <th>number_of_employees</th>\n",
       "      <th>Employees_Near</th>\n",
       "    </tr>\n",
       "  </thead>\n",
       "  <tbody>\n",
       "    <tr>\n",
       "      <th>0</th>\n",
       "      <td>Old</td>\n",
       "      <td>web</td>\n",
       "      <td>USA</td>\n",
       "      <td>2006</td>\n",
       "      <td>{'type': 'Point', 'coordinates': [-118.393064,...</td>\n",
       "      <td>34.090368</td>\n",
       "      <td>-118.393064</td>\n",
       "      <td>Geni</td>\n",
       "      <td>18</td>\n",
       "      <td>97</td>\n",
       "    </tr>\n",
       "    <tr>\n",
       "      <th>1</th>\n",
       "      <td>Old</td>\n",
       "      <td>web</td>\n",
       "      <td>USA</td>\n",
       "      <td>2005</td>\n",
       "      <td>{'type': 'Point', 'coordinates': [-121.907768,...</td>\n",
       "      <td>37.697805</td>\n",
       "      <td>-121.907768</td>\n",
       "      <td>Jangl SMS</td>\n",
       "      <td>22</td>\n",
       "      <td>2183</td>\n",
       "    </tr>\n",
       "    <tr>\n",
       "      <th>2</th>\n",
       "      <td>Old</td>\n",
       "      <td>web</td>\n",
       "      <td>USA</td>\n",
       "      <td>2005</td>\n",
       "      <td>{'type': 'Point', 'coordinates': [-122.333253,...</td>\n",
       "      <td>47.603122</td>\n",
       "      <td>-122.333253</td>\n",
       "      <td>Wetpaint</td>\n",
       "      <td>47</td>\n",
       "      <td>869</td>\n",
       "    </tr>\n",
       "    <tr>\n",
       "      <th>3</th>\n",
       "      <td>Old</td>\n",
       "      <td>mobile</td>\n",
       "      <td>USA</td>\n",
       "      <td>2005</td>\n",
       "      <td>{'type': 'Point', 'coordinates': [-122.173887,...</td>\n",
       "      <td>37.480999</td>\n",
       "      <td>-122.173887</td>\n",
       "      <td>Jingle Networks</td>\n",
       "      <td>35</td>\n",
       "      <td>180</td>\n",
       "    </tr>\n",
       "    <tr>\n",
       "      <th>4</th>\n",
       "      <td>Old</td>\n",
       "      <td>web</td>\n",
       "      <td>USA</td>\n",
       "      <td>2002</td>\n",
       "      <td>{'type': 'Point', 'coordinates': [-73.995722, ...</td>\n",
       "      <td>40.726040</td>\n",
       "      <td>-73.995722</td>\n",
       "      <td>Meetup</td>\n",
       "      <td>75</td>\n",
       "      <td>2012</td>\n",
       "    </tr>\n",
       "  </tbody>\n",
       "</table>\n",
       "</div>"
      ],
      "text/plain": [
       "   age category_code country  founded_year  \\\n",
       "0  Old           web     USA          2006   \n",
       "1  Old           web     USA          2005   \n",
       "2  Old           web     USA          2005   \n",
       "3  Old        mobile     USA          2005   \n",
       "4  Old           web     USA          2002   \n",
       "\n",
       "                                        headquarters        lat         lng  \\\n",
       "0  {'type': 'Point', 'coordinates': [-118.393064,...  34.090368 -118.393064   \n",
       "1  {'type': 'Point', 'coordinates': [-121.907768,...  37.697805 -121.907768   \n",
       "2  {'type': 'Point', 'coordinates': [-122.333253,...  47.603122 -122.333253   \n",
       "3  {'type': 'Point', 'coordinates': [-122.173887,...  37.480999 -122.173887   \n",
       "4  {'type': 'Point', 'coordinates': [-73.995722, ...  40.726040  -73.995722   \n",
       "\n",
       "              name  number_of_employees  Employees_Near  \n",
       "0             Geni                   18              97  \n",
       "1        Jangl SMS                   22            2183  \n",
       "2         Wetpaint                   47             869  \n",
       "3  Jingle Networks                   35             180  \n",
       "4           Meetup                   75            2012  "
      ]
     },
     "execution_count": 383,
     "metadata": {},
     "output_type": "execute_result"
    }
   ],
   "source": [
    "b.head()"
   ]
  },
  {
   "cell_type": "markdown",
   "metadata": {},
   "source": [
    "## Creating a function to obtain the ratio of New to Old companies nearby each firm"
   ]
  },
  {
   "cell_type": "code",
   "execution_count": 384,
   "metadata": {},
   "outputs": [],
   "source": [
    "def new_old(lst):\n",
    "    old=0\n",
    "    new=0\n",
    "    for i in lst:\n",
    "        if i[\"age\"]=='Old':\n",
    "            old+=1\n",
    "        else:\n",
    "            new+=1\n",
    "     \n",
    "    if old>0:\n",
    "        ratio= new/old\n",
    "        return ratio\n",
    "    else:\n",
    "        return 1.5\n",
    "\n"
   ]
  },
  {
   "cell_type": "markdown",
   "metadata": {},
   "source": [
    "## Using the funcition to get the ratios and appending the data to the dataframe"
   ]
  },
  {
   "cell_type": "code",
   "execution_count": 385,
   "metadata": {},
   "outputs": [],
   "source": [
    "ratio_column=[]\n",
    "for i in range(len(b)):\n",
    "    geopoint=b[\"headquarters\"][i]\n",
    "    lost=list(findNear(geopoint,radio))\n",
    "    n=new_old(lost)\n",
    "    ratio_column.append(n)\n"
   ]
  },
  {
   "cell_type": "code",
   "execution_count": 386,
   "metadata": {},
   "outputs": [],
   "source": [
    "b[\"New/Old_Ratio\"]=ratio_column"
   ]
  },
  {
   "cell_type": "markdown",
   "metadata": {},
   "source": [
    "## I delete all the rows where the new ratio is 0, thus meaning there are no new companies in the area"
   ]
  },
  {
   "cell_type": "code",
   "execution_count": 387,
   "metadata": {},
   "outputs": [
    {
     "data": {
      "text/html": [
       "<div>\n",
       "<style scoped>\n",
       "    .dataframe tbody tr th:only-of-type {\n",
       "        vertical-align: middle;\n",
       "    }\n",
       "\n",
       "    .dataframe tbody tr th {\n",
       "        vertical-align: top;\n",
       "    }\n",
       "\n",
       "    .dataframe thead th {\n",
       "        text-align: right;\n",
       "    }\n",
       "</style>\n",
       "<table border=\"1\" class=\"dataframe\">\n",
       "  <thead>\n",
       "    <tr style=\"text-align: right;\">\n",
       "      <th></th>\n",
       "      <th>age</th>\n",
       "      <th>category_code</th>\n",
       "      <th>country</th>\n",
       "      <th>founded_year</th>\n",
       "      <th>headquarters</th>\n",
       "      <th>lat</th>\n",
       "      <th>lng</th>\n",
       "      <th>name</th>\n",
       "      <th>number_of_employees</th>\n",
       "      <th>Employees_Near</th>\n",
       "      <th>New/Old_Ratio</th>\n",
       "    </tr>\n",
       "  </thead>\n",
       "  <tbody>\n",
       "    <tr>\n",
       "      <th>2</th>\n",
       "      <td>Old</td>\n",
       "      <td>web</td>\n",
       "      <td>USA</td>\n",
       "      <td>2005</td>\n",
       "      <td>{'type': 'Point', 'coordinates': [-122.333253,...</td>\n",
       "      <td>47.603122</td>\n",
       "      <td>-122.333253</td>\n",
       "      <td>Wetpaint</td>\n",
       "      <td>47</td>\n",
       "      <td>869</td>\n",
       "      <td>0.272727</td>\n",
       "    </tr>\n",
       "    <tr>\n",
       "      <th>4</th>\n",
       "      <td>Old</td>\n",
       "      <td>web</td>\n",
       "      <td>USA</td>\n",
       "      <td>2002</td>\n",
       "      <td>{'type': 'Point', 'coordinates': [-73.995722, ...</td>\n",
       "      <td>40.726040</td>\n",
       "      <td>-73.995722</td>\n",
       "      <td>Meetup</td>\n",
       "      <td>75</td>\n",
       "      <td>2012</td>\n",
       "      <td>0.393939</td>\n",
       "    </tr>\n",
       "    <tr>\n",
       "      <th>5</th>\n",
       "      <td>Old</td>\n",
       "      <td>games_video</td>\n",
       "      <td>USA</td>\n",
       "      <td>2006</td>\n",
       "      <td>{'type': 'Point', 'coordinates': [-118.254558,...</td>\n",
       "      <td>34.051409</td>\n",
       "      <td>-118.254558</td>\n",
       "      <td>Stickam</td>\n",
       "      <td>35</td>\n",
       "      <td>272</td>\n",
       "      <td>0.111111</td>\n",
       "    </tr>\n",
       "    <tr>\n",
       "      <th>6</th>\n",
       "      <td>Old</td>\n",
       "      <td>mobile</td>\n",
       "      <td>USA</td>\n",
       "      <td>2005</td>\n",
       "      <td>{'type': 'Point', 'coordinates': [-122.0899512...</td>\n",
       "      <td>37.423390</td>\n",
       "      <td>-122.089951</td>\n",
       "      <td>Jajah</td>\n",
       "      <td>110</td>\n",
       "      <td>1234</td>\n",
       "      <td>0.090909</td>\n",
       "    </tr>\n",
       "    <tr>\n",
       "      <th>9</th>\n",
       "      <td>Old</td>\n",
       "      <td>games_video</td>\n",
       "      <td>USA</td>\n",
       "      <td>2007</td>\n",
       "      <td>{'type': 'Point', 'coordinates': [-122.07948, ...</td>\n",
       "      <td>37.392936</td>\n",
       "      <td>-122.079480</td>\n",
       "      <td>Ustream</td>\n",
       "      <td>250</td>\n",
       "      <td>2065</td>\n",
       "      <td>0.166667</td>\n",
       "    </tr>\n",
       "  </tbody>\n",
       "</table>\n",
       "</div>"
      ],
      "text/plain": [
       "   age category_code country  founded_year  \\\n",
       "2  Old           web     USA          2005   \n",
       "4  Old           web     USA          2002   \n",
       "5  Old   games_video     USA          2006   \n",
       "6  Old        mobile     USA          2005   \n",
       "9  Old   games_video     USA          2007   \n",
       "\n",
       "                                        headquarters        lat         lng  \\\n",
       "2  {'type': 'Point', 'coordinates': [-122.333253,...  47.603122 -122.333253   \n",
       "4  {'type': 'Point', 'coordinates': [-73.995722, ...  40.726040  -73.995722   \n",
       "5  {'type': 'Point', 'coordinates': [-118.254558,...  34.051409 -118.254558   \n",
       "6  {'type': 'Point', 'coordinates': [-122.0899512...  37.423390 -122.089951   \n",
       "9  {'type': 'Point', 'coordinates': [-122.07948, ...  37.392936 -122.079480   \n",
       "\n",
       "       name  number_of_employees  Employees_Near  New/Old_Ratio  \n",
       "2  Wetpaint                   47             869       0.272727  \n",
       "4    Meetup                   75            2012       0.393939  \n",
       "5   Stickam                   35             272       0.111111  \n",
       "6     Jajah                  110            1234       0.090909  \n",
       "9   Ustream                  250            2065       0.166667  "
      ]
     },
     "execution_count": 387,
     "metadata": {},
     "output_type": "execute_result"
    }
   ],
   "source": [
    "b1=b[b['New/Old_Ratio'] != 0]\n",
    "b1.head()"
   ]
  },
  {
   "cell_type": "code",
   "execution_count": 388,
   "metadata": {},
   "outputs": [
    {
     "name": "stdout",
     "output_type": "stream",
     "text": [
      "(1685, 11)\n"
     ]
    }
   ],
   "source": [
    "print(b1.shape)\n"
   ]
  },
  {
   "cell_type": "markdown",
   "metadata": {},
   "source": [
    "## I see that almost 90% of the remaining firms are in the USA, so I focus on that country to avoid being to dispersed"
   ]
  },
  {
   "cell_type": "code",
   "execution_count": 389,
   "metadata": {},
   "outputs": [
    {
     "data": {
      "text/plain": [
       "USA    1124\n",
       "GBR     115\n",
       "CAN      88\n",
       "FRA      55\n",
       "DEU      50\n",
       "Name: country, dtype: int64"
      ]
     },
     "execution_count": 389,
     "metadata": {},
     "output_type": "execute_result"
    }
   ],
   "source": [
    "b1['country'].value_counts().head()"
   ]
  },
  {
   "cell_type": "code",
   "execution_count": 390,
   "metadata": {},
   "outputs": [
    {
     "name": "stdout",
     "output_type": "stream",
     "text": [
      "(1124, 11)\n"
     ]
    },
    {
     "data": {
      "text/html": [
       "<div>\n",
       "<style scoped>\n",
       "    .dataframe tbody tr th:only-of-type {\n",
       "        vertical-align: middle;\n",
       "    }\n",
       "\n",
       "    .dataframe tbody tr th {\n",
       "        vertical-align: top;\n",
       "    }\n",
       "\n",
       "    .dataframe thead th {\n",
       "        text-align: right;\n",
       "    }\n",
       "</style>\n",
       "<table border=\"1\" class=\"dataframe\">\n",
       "  <thead>\n",
       "    <tr style=\"text-align: right;\">\n",
       "      <th></th>\n",
       "      <th>founded_year</th>\n",
       "      <th>lat</th>\n",
       "      <th>lng</th>\n",
       "      <th>number_of_employees</th>\n",
       "      <th>Employees_Near</th>\n",
       "      <th>New/Old_Ratio</th>\n",
       "    </tr>\n",
       "  </thead>\n",
       "  <tbody>\n",
       "    <tr>\n",
       "      <th>count</th>\n",
       "      <td>1124.000000</td>\n",
       "      <td>1124.000000</td>\n",
       "      <td>1124.000000</td>\n",
       "      <td>1124.000000</td>\n",
       "      <td>1124.000000</td>\n",
       "      <td>1124.000000</td>\n",
       "    </tr>\n",
       "    <tr>\n",
       "      <th>mean</th>\n",
       "      <td>2005.914591</td>\n",
       "      <td>38.477503</td>\n",
       "      <td>-102.759413</td>\n",
       "      <td>180.303381</td>\n",
       "      <td>3002.714413</td>\n",
       "      <td>0.684808</td>\n",
       "    </tr>\n",
       "    <tr>\n",
       "      <th>std</th>\n",
       "      <td>3.413842</td>\n",
       "      <td>4.481410</td>\n",
       "      <td>23.540114</td>\n",
       "      <td>3084.747416</td>\n",
       "      <td>10281.233931</td>\n",
       "      <td>0.538107</td>\n",
       "    </tr>\n",
       "    <tr>\n",
       "      <th>min</th>\n",
       "      <td>1990.000000</td>\n",
       "      <td>17.415429</td>\n",
       "      <td>-159.480262</td>\n",
       "      <td>1.000000</td>\n",
       "      <td>1.000000</td>\n",
       "      <td>0.047619</td>\n",
       "    </tr>\n",
       "    <tr>\n",
       "      <th>25%</th>\n",
       "      <td>2005.000000</td>\n",
       "      <td>37.320643</td>\n",
       "      <td>-122.265594</td>\n",
       "      <td>3.000000</td>\n",
       "      <td>41.000000</td>\n",
       "      <td>0.319444</td>\n",
       "    </tr>\n",
       "    <tr>\n",
       "      <th>50%</th>\n",
       "      <td>2007.000000</td>\n",
       "      <td>37.783662</td>\n",
       "      <td>-118.330006</td>\n",
       "      <td>9.000000</td>\n",
       "      <td>501.500000</td>\n",
       "      <td>0.428571</td>\n",
       "    </tr>\n",
       "    <tr>\n",
       "      <th>75%</th>\n",
       "      <td>2008.000000</td>\n",
       "      <td>40.747071</td>\n",
       "      <td>-77.231374</td>\n",
       "      <td>30.000000</td>\n",
       "      <td>2039.250000</td>\n",
       "      <td>1.000000</td>\n",
       "    </tr>\n",
       "    <tr>\n",
       "      <th>max</th>\n",
       "      <td>2013.000000</td>\n",
       "      <td>61.216583</td>\n",
       "      <td>78.434422</td>\n",
       "      <td>99999.000000</td>\n",
       "      <td>100961.000000</td>\n",
       "      <td>4.000000</td>\n",
       "    </tr>\n",
       "  </tbody>\n",
       "</table>\n",
       "</div>"
      ],
      "text/plain": [
       "       founded_year          lat          lng  number_of_employees  \\\n",
       "count   1124.000000  1124.000000  1124.000000          1124.000000   \n",
       "mean    2005.914591    38.477503  -102.759413           180.303381   \n",
       "std        3.413842     4.481410    23.540114          3084.747416   \n",
       "min     1990.000000    17.415429  -159.480262             1.000000   \n",
       "25%     2005.000000    37.320643  -122.265594             3.000000   \n",
       "50%     2007.000000    37.783662  -118.330006             9.000000   \n",
       "75%     2008.000000    40.747071   -77.231374            30.000000   \n",
       "max     2013.000000    61.216583    78.434422         99999.000000   \n",
       "\n",
       "       Employees_Near  New/Old_Ratio  \n",
       "count     1124.000000    1124.000000  \n",
       "mean      3002.714413       0.684808  \n",
       "std      10281.233931       0.538107  \n",
       "min          1.000000       0.047619  \n",
       "25%         41.000000       0.319444  \n",
       "50%        501.500000       0.428571  \n",
       "75%       2039.250000       1.000000  \n",
       "max     100961.000000       4.000000  "
      ]
     },
     "execution_count": 390,
     "metadata": {},
     "output_type": "execute_result"
    }
   ],
   "source": [
    "b1=b1[b1['country'] == 'USA']\n",
    "print(b1.shape)\n",
    "b1.head()\n",
    "b1.describe()"
   ]
  },
  {
   "cell_type": "markdown",
   "metadata": {},
   "source": [
    "## I see the statistics of the remaining data, I decide to keep the top25% of new-old ratio companies for now"
   ]
  },
  {
   "cell_type": "code",
   "execution_count": 391,
   "metadata": {},
   "outputs": [
    {
     "name": "stdout",
     "output_type": "stream",
     "text": [
      "1.0\n"
     ]
    }
   ],
   "source": [
    "new_old_upper=b1['New/Old_Ratio'].quantile(0.75)\n",
    "print(new_old_upper)\n"
   ]
  },
  {
   "cell_type": "code",
   "execution_count": 392,
   "metadata": {},
   "outputs": [
    {
     "data": {
      "text/html": [
       "<div>\n",
       "<style scoped>\n",
       "    .dataframe tbody tr th:only-of-type {\n",
       "        vertical-align: middle;\n",
       "    }\n",
       "\n",
       "    .dataframe tbody tr th {\n",
       "        vertical-align: top;\n",
       "    }\n",
       "\n",
       "    .dataframe thead th {\n",
       "        text-align: right;\n",
       "    }\n",
       "</style>\n",
       "<table border=\"1\" class=\"dataframe\">\n",
       "  <thead>\n",
       "    <tr style=\"text-align: right;\">\n",
       "      <th></th>\n",
       "      <th>age</th>\n",
       "      <th>category_code</th>\n",
       "      <th>country</th>\n",
       "      <th>founded_year</th>\n",
       "      <th>headquarters</th>\n",
       "      <th>lat</th>\n",
       "      <th>lng</th>\n",
       "      <th>name</th>\n",
       "      <th>number_of_employees</th>\n",
       "      <th>Employees_Near</th>\n",
       "      <th>New/Old_Ratio</th>\n",
       "    </tr>\n",
       "  </thead>\n",
       "  <tbody>\n",
       "    <tr>\n",
       "      <th>16</th>\n",
       "      <td>Old</td>\n",
       "      <td>web</td>\n",
       "      <td>USA</td>\n",
       "      <td>2007</td>\n",
       "      <td>{'type': 'Point', 'coordinates': [-118.487267,...</td>\n",
       "      <td>34.017606</td>\n",
       "      <td>-118.487267</td>\n",
       "      <td>Mahalo</td>\n",
       "      <td>40</td>\n",
       "      <td>1197</td>\n",
       "      <td>1.166667</td>\n",
       "    </tr>\n",
       "    <tr>\n",
       "      <th>40</th>\n",
       "      <td>Old</td>\n",
       "      <td>network_hosting</td>\n",
       "      <td>USA</td>\n",
       "      <td>2005</td>\n",
       "      <td>{'type': 'Point', 'coordinates': [-122.143701,...</td>\n",
       "      <td>37.425801</td>\n",
       "      <td>-122.143701</td>\n",
       "      <td>Box</td>\n",
       "      <td>950</td>\n",
       "      <td>1041</td>\n",
       "      <td>1.000000</td>\n",
       "    </tr>\n",
       "    <tr>\n",
       "      <th>66</th>\n",
       "      <td>Old</td>\n",
       "      <td>web</td>\n",
       "      <td>USA</td>\n",
       "      <td>2006</td>\n",
       "      <td>{'type': 'Point', 'coordinates': [-105.276843,...</td>\n",
       "      <td>40.010492</td>\n",
       "      <td>-105.276843</td>\n",
       "      <td>IntenseDebate</td>\n",
       "      <td>4</td>\n",
       "      <td>46</td>\n",
       "      <td>1.000000</td>\n",
       "    </tr>\n",
       "    <tr>\n",
       "      <th>89</th>\n",
       "      <td>Old</td>\n",
       "      <td>web</td>\n",
       "      <td>USA</td>\n",
       "      <td>2007</td>\n",
       "      <td>{'type': 'Point', 'coordinates': [-105.276843,...</td>\n",
       "      <td>40.010492</td>\n",
       "      <td>-105.276843</td>\n",
       "      <td>Filtrbox</td>\n",
       "      <td>14</td>\n",
       "      <td>46</td>\n",
       "      <td>1.000000</td>\n",
       "    </tr>\n",
       "    <tr>\n",
       "      <th>100</th>\n",
       "      <td>Old</td>\n",
       "      <td>web</td>\n",
       "      <td>USA</td>\n",
       "      <td>2007</td>\n",
       "      <td>{'type': 'Point', 'coordinates': [-118.495025,...</td>\n",
       "      <td>34.018275</td>\n",
       "      <td>-118.495025</td>\n",
       "      <td>Docstoc</td>\n",
       "      <td>40</td>\n",
       "      <td>279</td>\n",
       "      <td>1.750000</td>\n",
       "    </tr>\n",
       "  </tbody>\n",
       "</table>\n",
       "</div>"
      ],
      "text/plain": [
       "     age    category_code country  founded_year  \\\n",
       "16   Old              web     USA          2007   \n",
       "40   Old  network_hosting     USA          2005   \n",
       "66   Old              web     USA          2006   \n",
       "89   Old              web     USA          2007   \n",
       "100  Old              web     USA          2007   \n",
       "\n",
       "                                          headquarters        lat         lng  \\\n",
       "16   {'type': 'Point', 'coordinates': [-118.487267,...  34.017606 -118.487267   \n",
       "40   {'type': 'Point', 'coordinates': [-122.143701,...  37.425801 -122.143701   \n",
       "66   {'type': 'Point', 'coordinates': [-105.276843,...  40.010492 -105.276843   \n",
       "89   {'type': 'Point', 'coordinates': [-105.276843,...  40.010492 -105.276843   \n",
       "100  {'type': 'Point', 'coordinates': [-118.495025,...  34.018275 -118.495025   \n",
       "\n",
       "              name  number_of_employees  Employees_Near  New/Old_Ratio  \n",
       "16          Mahalo                   40            1197       1.166667  \n",
       "40             Box                  950            1041       1.000000  \n",
       "66   IntenseDebate                    4              46       1.000000  \n",
       "89        Filtrbox                   14              46       1.000000  \n",
       "100        Docstoc                   40             279       1.750000  "
      ]
     },
     "execution_count": 392,
     "metadata": {},
     "output_type": "execute_result"
    }
   ],
   "source": [
    "b2=b1[b1['New/Old_Ratio'] >= new_old_upper]\n",
    "b2.shape\n",
    "b2.head(5)"
   ]
  },
  {
   "cell_type": "markdown",
   "metadata": {},
   "source": [
    "## I also take the top 50% of companies w.r.t Number of NEAR employees"
   ]
  },
  {
   "cell_type": "code",
   "execution_count": 393,
   "metadata": {},
   "outputs": [
    {
     "name": "stdout",
     "output_type": "stream",
     "text": [
      "13.0\n",
      "(173, 11)\n"
     ]
    }
   ],
   "source": [
    "employee_median=b2['Employees_Near'].median()\n",
    "print(employee_median)\n",
    "b2=b2[b2['Employees_Near'] >= employee_median]\n",
    "print(b2.shape)\n"
   ]
  },
  {
   "cell_type": "code",
   "execution_count": 394,
   "metadata": {},
   "outputs": [
    {
     "data": {
      "text/html": [
       "<div>\n",
       "<style scoped>\n",
       "    .dataframe tbody tr th:only-of-type {\n",
       "        vertical-align: middle;\n",
       "    }\n",
       "\n",
       "    .dataframe tbody tr th {\n",
       "        vertical-align: top;\n",
       "    }\n",
       "\n",
       "    .dataframe thead th {\n",
       "        text-align: right;\n",
       "    }\n",
       "</style>\n",
       "<table border=\"1\" class=\"dataframe\">\n",
       "  <thead>\n",
       "    <tr style=\"text-align: right;\">\n",
       "      <th></th>\n",
       "      <th>age</th>\n",
       "      <th>category_code</th>\n",
       "      <th>country</th>\n",
       "      <th>founded_year</th>\n",
       "      <th>headquarters</th>\n",
       "      <th>lat</th>\n",
       "      <th>lng</th>\n",
       "      <th>name</th>\n",
       "      <th>number_of_employees</th>\n",
       "      <th>Employees_Near</th>\n",
       "      <th>New/Old_Ratio</th>\n",
       "    </tr>\n",
       "  </thead>\n",
       "  <tbody>\n",
       "    <tr>\n",
       "      <th>1001</th>\n",
       "      <td>Old</td>\n",
       "      <td>games_video</td>\n",
       "      <td>USA</td>\n",
       "      <td>2006</td>\n",
       "      <td>{'type': 'Point', 'coordinates': [-73.957968, ...</td>\n",
       "      <td>40.720764</td>\n",
       "      <td>-73.957968</td>\n",
       "      <td>VBS TV</td>\n",
       "      <td>100</td>\n",
       "      <td>130</td>\n",
       "      <td>4.0</td>\n",
       "    </tr>\n",
       "    <tr>\n",
       "      <th>2000</th>\n",
       "      <td>Old</td>\n",
       "      <td>software</td>\n",
       "      <td>USA</td>\n",
       "      <td>2000</td>\n",
       "      <td>{'type': 'Point', 'coordinates': [-73.9586329,...</td>\n",
       "      <td>40.812933</td>\n",
       "      <td>-73.958633</td>\n",
       "      <td>Dot Com Infoway</td>\n",
       "      <td>500</td>\n",
       "      <td>519</td>\n",
       "      <td>3.0</td>\n",
       "    </tr>\n",
       "    <tr>\n",
       "      <th>178</th>\n",
       "      <td>Old</td>\n",
       "      <td>games_video</td>\n",
       "      <td>USA</td>\n",
       "      <td>2005</td>\n",
       "      <td>{'type': 'Point', 'coordinates': [-83.734673, ...</td>\n",
       "      <td>42.292649</td>\n",
       "      <td>-83.734673</td>\n",
       "      <td>Zattoo</td>\n",
       "      <td>45</td>\n",
       "      <td>79</td>\n",
       "      <td>3.0</td>\n",
       "    </tr>\n",
       "    <tr>\n",
       "      <th>610</th>\n",
       "      <td>New</td>\n",
       "      <td>web</td>\n",
       "      <td>USA</td>\n",
       "      <td>2008</td>\n",
       "      <td>{'type': 'Point', 'coordinates': [-83.731129, ...</td>\n",
       "      <td>42.282255</td>\n",
       "      <td>-83.731129</td>\n",
       "      <td>skoogO</td>\n",
       "      <td>1</td>\n",
       "      <td>79</td>\n",
       "      <td>3.0</td>\n",
       "    </tr>\n",
       "    <tr>\n",
       "      <th>1693</th>\n",
       "      <td>New</td>\n",
       "      <td>games_video</td>\n",
       "      <td>USA</td>\n",
       "      <td>2009</td>\n",
       "      <td>{'type': 'Point', 'coordinates': [-83.7420579,...</td>\n",
       "      <td>42.280268</td>\n",
       "      <td>-83.742058</td>\n",
       "      <td>Mybandstock</td>\n",
       "      <td>19</td>\n",
       "      <td>79</td>\n",
       "      <td>3.0</td>\n",
       "    </tr>\n",
       "  </tbody>\n",
       "</table>\n",
       "</div>"
      ],
      "text/plain": [
       "      age category_code country  founded_year  \\\n",
       "1001  Old   games_video     USA          2006   \n",
       "2000  Old      software     USA          2000   \n",
       "178   Old   games_video     USA          2005   \n",
       "610   New           web     USA          2008   \n",
       "1693  New   games_video     USA          2009   \n",
       "\n",
       "                                           headquarters        lat        lng  \\\n",
       "1001  {'type': 'Point', 'coordinates': [-73.957968, ...  40.720764 -73.957968   \n",
       "2000  {'type': 'Point', 'coordinates': [-73.9586329,...  40.812933 -73.958633   \n",
       "178   {'type': 'Point', 'coordinates': [-83.734673, ...  42.292649 -83.734673   \n",
       "610   {'type': 'Point', 'coordinates': [-83.731129, ...  42.282255 -83.731129   \n",
       "1693  {'type': 'Point', 'coordinates': [-83.7420579,...  42.280268 -83.742058   \n",
       "\n",
       "                 name  number_of_employees  Employees_Near  New/Old_Ratio  \n",
       "1001           VBS TV                  100             130            4.0  \n",
       "2000  Dot Com Infoway                  500             519            3.0  \n",
       "178            Zattoo                   45              79            3.0  \n",
       "610            skoogO                    1              79            3.0  \n",
       "1693      Mybandstock                   19              79            3.0  "
      ]
     },
     "execution_count": 394,
     "metadata": {},
     "output_type": "execute_result"
    }
   ],
   "source": [
    "b3=b2.sort_values(['New/Old_Ratio', 'Employees_Near'], ascending=[False, False])\n",
    "b3.head()"
   ]
  },
  {
   "cell_type": "markdown",
   "metadata": {},
   "source": [
    "## I sort by First the New_Old ratio in the near area and then the Number of Employees Near, creating a ranking with the new order"
   ]
  },
  {
   "cell_type": "code",
   "execution_count": 395,
   "metadata": {},
   "outputs": [],
   "source": [
    "b4= b3.reset_index()\n",
    "b4.head()\n",
    "b5=b4.reset_index()\n",
    "b5.head()\n",
    "b6=b5.drop(columns='index')\n",
    "b6['Rank']=b6['level_0'].rank()\n",
    "b7=b6.drop(columns='level_0')\n"
   ]
  },
  {
   "cell_type": "markdown",
   "metadata": {},
   "source": [
    "### I select the final top10 companies with the highest ranking"
   ]
  },
  {
   "cell_type": "code",
   "execution_count": 409,
   "metadata": {},
   "outputs": [],
   "source": [
    "b8=b7[:9]"
   ]
  },
  {
   "cell_type": "markdown",
   "metadata": {},
   "source": [
    "### I export this file to csv"
   ]
  },
  {
   "cell_type": "code",
   "execution_count": 397,
   "metadata": {},
   "outputs": [],
   "source": [
    " b8.to_csv('geo_clean.csv')"
   ]
  },
  {
   "cell_type": "markdown",
   "metadata": {},
   "source": [
    "## From Tableau, I have selected an area in New York where at least 2 of the top companies are located close by. To select close to which of the two is the ideal location, I factor in which is close to a Starbucks. I get the Starbucks data from the Google Places API"
   ]
  },
  {
   "cell_type": "code",
   "execution_count": 398,
   "metadata": {},
   "outputs": [],
   "source": [
    "key=os.environ['API_Token']\n",
    "geocode_url = \"https://maps.googleapis.com/maps/api/place/nearbysearch/json?location=40.822087,-73.950677&radius=49900&keyword=Starbucks&key={}\".format(key)\n",
    "res = requests.get(geocode_url).json()\n",
    "\n"
   ]
  },
  {
   "cell_type": "code",
   "execution_count": 399,
   "metadata": {},
   "outputs": [],
   "source": [
    "starb_lat=[]\n",
    "starb_lng=[]\n",
    "starb_name=[]\n",
    "for i in res[\"results\"]:\n",
    "    starb_lat.append(i.get(\"geometry\").get(\"location\").get(\"lat\"))\n",
    "    starb_lng.append(i.get(\"geometry\").get(\"location\").get(\"lng\"))\n",
    "    starb_name.append(i.get(\"name\"))\n",
    "\n"
   ]
  },
  {
   "cell_type": "markdown",
   "metadata": {},
   "source": [
    "### I get the latitude and longitude of each starbucks in the selected area where the two finalist companies are located and create a dataframe"
   ]
  },
  {
   "cell_type": "code",
   "execution_count": 400,
   "metadata": {},
   "outputs": [
    {
     "data": {
      "text/html": [
       "<div>\n",
       "<style scoped>\n",
       "    .dataframe tbody tr th:only-of-type {\n",
       "        vertical-align: middle;\n",
       "    }\n",
       "\n",
       "    .dataframe tbody tr th {\n",
       "        vertical-align: top;\n",
       "    }\n",
       "\n",
       "    .dataframe thead th {\n",
       "        text-align: right;\n",
       "    }\n",
       "</style>\n",
       "<table border=\"1\" class=\"dataframe\">\n",
       "  <thead>\n",
       "    <tr style=\"text-align: right;\">\n",
       "      <th></th>\n",
       "      <th>lat</th>\n",
       "      <th>lng</th>\n",
       "      <th>name</th>\n",
       "    </tr>\n",
       "  </thead>\n",
       "  <tbody>\n",
       "    <tr>\n",
       "      <th>0</th>\n",
       "      <td>40.823359</td>\n",
       "      <td>-73.942575</td>\n",
       "      <td>Starbucks</td>\n",
       "    </tr>\n",
       "    <tr>\n",
       "      <th>1</th>\n",
       "      <td>40.815077</td>\n",
       "      <td>-73.959078</td>\n",
       "      <td>Starbucks</td>\n",
       "    </tr>\n",
       "    <tr>\n",
       "      <th>2</th>\n",
       "      <td>40.807803</td>\n",
       "      <td>-73.945136</td>\n",
       "      <td>Starbucks</td>\n",
       "    </tr>\n",
       "    <tr>\n",
       "      <th>3</th>\n",
       "      <td>40.823963</td>\n",
       "      <td>-73.930287</td>\n",
       "      <td>Starbucks</td>\n",
       "    </tr>\n",
       "    <tr>\n",
       "      <th>4</th>\n",
       "      <td>40.722553</td>\n",
       "      <td>-73.997942</td>\n",
       "      <td>Starbucks</td>\n",
       "    </tr>\n",
       "  </tbody>\n",
       "</table>\n",
       "</div>"
      ],
      "text/plain": [
       "         lat        lng       name\n",
       "0  40.823359 -73.942575  Starbucks\n",
       "1  40.815077 -73.959078  Starbucks\n",
       "2  40.807803 -73.945136  Starbucks\n",
       "3  40.823963 -73.930287  Starbucks\n",
       "4  40.722553 -73.997942  Starbucks"
      ]
     },
     "execution_count": 400,
     "metadata": {},
     "output_type": "execute_result"
    }
   ],
   "source": [
    "\n",
    "starbucks = pd.DataFrame()\n",
    "starbucks['lat']  = starb_lat\n",
    "starbucks['lng']  = starb_lng\n",
    "starbucks['name']  = starb_name\n",
    "starbucks.head()\n"
   ]
  },
  {
   "cell_type": "code",
   "execution_count": 401,
   "metadata": {},
   "outputs": [
    {
     "data": {
      "text/html": [
       "<div>\n",
       "<style scoped>\n",
       "    .dataframe tbody tr th:only-of-type {\n",
       "        vertical-align: middle;\n",
       "    }\n",
       "\n",
       "    .dataframe tbody tr th {\n",
       "        vertical-align: top;\n",
       "    }\n",
       "\n",
       "    .dataframe thead th {\n",
       "        text-align: right;\n",
       "    }\n",
       "</style>\n",
       "<table border=\"1\" class=\"dataframe\">\n",
       "  <thead>\n",
       "    <tr style=\"text-align: right;\">\n",
       "      <th></th>\n",
       "      <th>lat</th>\n",
       "      <th>lng</th>\n",
       "      <th>name</th>\n",
       "    </tr>\n",
       "  </thead>\n",
       "  <tbody>\n",
       "    <tr>\n",
       "      <th>0</th>\n",
       "      <td>40.720764</td>\n",
       "      <td>-73.957968</td>\n",
       "      <td>VBS TV</td>\n",
       "    </tr>\n",
       "    <tr>\n",
       "      <th>1</th>\n",
       "      <td>40.812933</td>\n",
       "      <td>-73.958633</td>\n",
       "      <td>Dot Com Infoway</td>\n",
       "    </tr>\n",
       "    <tr>\n",
       "      <th>2</th>\n",
       "      <td>42.292649</td>\n",
       "      <td>-83.734673</td>\n",
       "      <td>Zattoo</td>\n",
       "    </tr>\n",
       "    <tr>\n",
       "      <th>3</th>\n",
       "      <td>42.282255</td>\n",
       "      <td>-83.731129</td>\n",
       "      <td>skoogO</td>\n",
       "    </tr>\n",
       "    <tr>\n",
       "      <th>4</th>\n",
       "      <td>42.280268</td>\n",
       "      <td>-83.742058</td>\n",
       "      <td>Mybandstock</td>\n",
       "    </tr>\n",
       "  </tbody>\n",
       "</table>\n",
       "</div>"
      ],
      "text/plain": [
       "         lat        lng             name\n",
       "0  40.720764 -73.957968           VBS TV\n",
       "1  40.812933 -73.958633  Dot Com Infoway\n",
       "2  42.292649 -83.734673           Zattoo\n",
       "3  42.282255 -83.731129           skoogO\n",
       "4  42.280268 -83.742058      Mybandstock"
      ]
     },
     "execution_count": 401,
     "metadata": {},
     "output_type": "execute_result"
    }
   ],
   "source": [
    "b9=b8.drop(columns=['age','category_code','country','founded_year','headquarters','number_of_employees','Employees_Near','New/Old_Ratio','Rank'])"
   ]
  },
  {
   "cell_type": "markdown",
   "metadata": {},
   "source": [
    "## I append both dataframes together to match the finalists with the nearby starbucks"
   ]
  },
  {
   "cell_type": "code",
   "execution_count": 404,
   "metadata": {},
   "outputs": [],
   "source": [
    "s=starbucks.append(b9,ignore_index=True)"
   ]
  },
  {
   "cell_type": "markdown",
   "metadata": {},
   "source": [
    "## I then export these locations to a csv "
   ]
  },
  {
   "cell_type": "code",
   "execution_count": 408,
   "metadata": {},
   "outputs": [],
   "source": [
    "s.to_csv('starbucks.csv')"
   ]
  },
  {
   "cell_type": "markdown",
   "metadata": {},
   "source": [
    "# Finally: I conduct the final stage of my analysis in TABLEAU PUBLIC: PLEASE ACCESS THIS FINAL PART WITH THE FOLLOWING LINK"
   ]
  },
  {
   "cell_type": "markdown",
   "metadata": {},
   "source": [
    "LINK: https://public.tableau.com/profile/pela1472#!/vizhome/CompaniesProject/Top10"
   ]
  },
  {
   "cell_type": "markdown",
   "metadata": {},
   "source": [
    "## Thank you! :)"
   ]
  }
 ],
 "metadata": {
  "kernelspec": {
   "display_name": "Python 3",
   "language": "python",
   "name": "python3"
  },
  "language_info": {
   "codemirror_mode": {
    "name": "ipython",
    "version": 3
   },
   "file_extension": ".py",
   "mimetype": "text/x-python",
   "name": "python",
   "nbconvert_exporter": "python",
   "pygments_lexer": "ipython3",
   "version": "3.7.3"
  }
 },
 "nbformat": 4,
 "nbformat_minor": 2
}
