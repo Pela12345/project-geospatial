{
 "cells": [
  {
   "cell_type": "markdown",
   "metadata": {},
   "source": [
    "### Importing Libraries and pymongo"
   ]
  },
  {
   "cell_type": "code",
   "execution_count": 31,
   "metadata": {},
   "outputs": [],
   "source": [
    "from pymongo import MongoClient\n",
    "import pandas as pd\n",
    "\n",
    "client = MongoClient('mongodb://localhost:27017/')\n",
    "db = client.companies"
   ]
  },
  {
   "cell_type": "markdown",
   "metadata": {},
   "source": [
    "## Making a Query, with a focus on tech-industry companies, with at least 1 office and 1 employee, founded from 1990 onwards to avoid the oldest companies"
   ]
  },
  {
   "cell_type": "code",
   "execution_count": 32,
   "metadata": {},
   "outputs": [],
   "source": [
    "#Choose top 5 tech categories, founded in last 10 years of database, at least 2 employees, at least 1 office\n",
    "filtered = db.companies.find({\n",
    "    \"$and\": [ {\"$or\":[{\"category_code\":\"web\"}, \n",
    "                      {\"category_code\":\"software\"},\n",
    "                      {\"category_code\":\"games_video\"},\n",
    "                      {\"category_code\":\"mobile\"}, \n",
    "                      {\"category_code\":\"network_hosting\"}]},\n",
    "             {\"offices\":{\"$not\":{\"$size\":0 }}},\n",
    "             {\"founded_year\": { \"$gte\":1990}}, \n",
    "             {\"number_of_employees\": {\"$gte\":1}}]},\n",
    "    {\"name\":1, \"offices\":1,\"category_code\":1, \"founded_year\":1, \"number_of_employees\":1})\n",
    "\n",
    "\n",
    "\n",
    "\n"
   ]
  },
  {
   "cell_type": "code",
   "execution_count": 33,
   "metadata": {},
   "outputs": [
    {
     "name": "stdout",
     "output_type": "stream",
     "text": [
      "(3876, 6)\n"
     ]
    },
    {
     "data": {
      "text/html": [
       "<div>\n",
       "<style scoped>\n",
       "    .dataframe tbody tr th:only-of-type {\n",
       "        vertical-align: middle;\n",
       "    }\n",
       "\n",
       "    .dataframe tbody tr th {\n",
       "        vertical-align: top;\n",
       "    }\n",
       "\n",
       "    .dataframe thead th {\n",
       "        text-align: right;\n",
       "    }\n",
       "</style>\n",
       "<table border=\"1\" class=\"dataframe\">\n",
       "  <thead>\n",
       "    <tr style=\"text-align: right;\">\n",
       "      <th></th>\n",
       "      <th>_id</th>\n",
       "      <th>category_code</th>\n",
       "      <th>founded_year</th>\n",
       "      <th>name</th>\n",
       "      <th>number_of_employees</th>\n",
       "      <th>offices</th>\n",
       "    </tr>\n",
       "  </thead>\n",
       "  <tbody>\n",
       "    <tr>\n",
       "      <th>0</th>\n",
       "      <td>52cdef7c4bab8bd675297d8a</td>\n",
       "      <td>web</td>\n",
       "      <td>2005</td>\n",
       "      <td>Wetpaint</td>\n",
       "      <td>47</td>\n",
       "      <td>[{'description': '', 'address1': '710 - 2nd Av...</td>\n",
       "    </tr>\n",
       "    <tr>\n",
       "      <th>1</th>\n",
       "      <td>52cdef7c4bab8bd675297d8c</td>\n",
       "      <td>software</td>\n",
       "      <td>2005</td>\n",
       "      <td>Zoho</td>\n",
       "      <td>1600</td>\n",
       "      <td>[{'description': 'Headquarters', 'address1': '...</td>\n",
       "    </tr>\n",
       "    <tr>\n",
       "      <th>2</th>\n",
       "      <td>52cdef7c4bab8bd675297d91</td>\n",
       "      <td>web</td>\n",
       "      <td>2006</td>\n",
       "      <td>Geni</td>\n",
       "      <td>18</td>\n",
       "      <td>[{'description': 'Headquarters', 'address1': '...</td>\n",
       "    </tr>\n",
       "    <tr>\n",
       "      <th>3</th>\n",
       "      <td>52cdef7c4bab8bd675297da1</td>\n",
       "      <td>web</td>\n",
       "      <td>2002</td>\n",
       "      <td>Plaxo</td>\n",
       "      <td>50</td>\n",
       "      <td>[{'description': 'HQ', 'address1': '1050 Enter...</td>\n",
       "    </tr>\n",
       "    <tr>\n",
       "      <th>4</th>\n",
       "      <td>52cdef7c4bab8bd675297d9b</td>\n",
       "      <td>web</td>\n",
       "      <td>1995</td>\n",
       "      <td>eBay</td>\n",
       "      <td>15000</td>\n",
       "      <td>[{'description': 'Headquarters', 'address1': '...</td>\n",
       "    </tr>\n",
       "  </tbody>\n",
       "</table>\n",
       "</div>"
      ],
      "text/plain": [
       "                        _id category_code  founded_year      name  \\\n",
       "0  52cdef7c4bab8bd675297d8a           web          2005  Wetpaint   \n",
       "1  52cdef7c4bab8bd675297d8c      software          2005      Zoho   \n",
       "2  52cdef7c4bab8bd675297d91           web          2006      Geni   \n",
       "3  52cdef7c4bab8bd675297da1           web          2002     Plaxo   \n",
       "4  52cdef7c4bab8bd675297d9b           web          1995      eBay   \n",
       "\n",
       "   number_of_employees                                            offices  \n",
       "0                   47  [{'description': '', 'address1': '710 - 2nd Av...  \n",
       "1                 1600  [{'description': 'Headquarters', 'address1': '...  \n",
       "2                   18  [{'description': 'Headquarters', 'address1': '...  \n",
       "3                   50  [{'description': 'HQ', 'address1': '1050 Enter...  \n",
       "4                15000  [{'description': 'Headquarters', 'address1': '...  "
      ]
     },
     "execution_count": 33,
     "metadata": {},
     "output_type": "execute_result"
    }
   ],
   "source": [
    "df = pd.DataFrame(filtered)\n",
    "print(df.shape)\n",
    "df.head()\n",
    "\n"
   ]
  },
  {
   "cell_type": "markdown",
   "metadata": {},
   "source": [
    "## I obtain the geolocation and city information of the main headquarters of every selected company and I concat it to the previous dataframe"
   ]
  },
  {
   "cell_type": "code",
   "execution_count": 34,
   "metadata": {},
   "outputs": [],
   "source": [
    "def getFirst(data):\n",
    "    data = data['offices']\n",
    "    principal = None\n",
    "    if data[0]['latitude'] and data[0]['longitude']:\n",
    "        principal = {\n",
    "            \"type\":\"Point\",\n",
    "            \"coordinates\":[data[0]['longitude'], data[0]['latitude']]\n",
    "        }\n",
    "\n",
    "    return {\n",
    "        \"lat\": data[0]['latitude'],\n",
    "        \"lng\": data[0]['longitude'],\n",
    "        \"headquarters\": principal,\n",
    "        \"country\": data[0]['country_code'],\n",
    "        \"city\": data[0]['city'],\n",
    "        \n",
    "    }\n",
    "\n",
    "\n",
    "main_office = df[[\"offices\"]].apply(getFirst, result_type=\"expand\", axis=1)"
   ]
  },
  {
   "cell_type": "code",
   "execution_count": 35,
   "metadata": {},
   "outputs": [
    {
     "data": {
      "text/html": [
       "<div>\n",
       "<style scoped>\n",
       "    .dataframe tbody tr th:only-of-type {\n",
       "        vertical-align: middle;\n",
       "    }\n",
       "\n",
       "    .dataframe tbody tr th {\n",
       "        vertical-align: top;\n",
       "    }\n",
       "\n",
       "    .dataframe thead th {\n",
       "        text-align: right;\n",
       "    }\n",
       "</style>\n",
       "<table border=\"1\" class=\"dataframe\">\n",
       "  <thead>\n",
       "    <tr style=\"text-align: right;\">\n",
       "      <th></th>\n",
       "      <th>name</th>\n",
       "      <th>lat</th>\n",
       "      <th>lng</th>\n",
       "      <th>country</th>\n",
       "      <th>headquarters</th>\n",
       "      <th>number_of_employees</th>\n",
       "      <th>category_code</th>\n",
       "      <th>founded_year</th>\n",
       "      <th>city</th>\n",
       "    </tr>\n",
       "  </thead>\n",
       "  <tbody>\n",
       "    <tr>\n",
       "      <th>0</th>\n",
       "      <td>Wetpaint</td>\n",
       "      <td>47.603122</td>\n",
       "      <td>-122.333253</td>\n",
       "      <td>USA</td>\n",
       "      <td>{'type': 'Point', 'coordinates': [-122.333253,...</td>\n",
       "      <td>47</td>\n",
       "      <td>web</td>\n",
       "      <td>2005</td>\n",
       "      <td>Seattle</td>\n",
       "    </tr>\n",
       "    <tr>\n",
       "      <th>1</th>\n",
       "      <td>Zoho</td>\n",
       "      <td>37.692934</td>\n",
       "      <td>-121.904945</td>\n",
       "      <td>USA</td>\n",
       "      <td>{'type': 'Point', 'coordinates': [-121.904945,...</td>\n",
       "      <td>1600</td>\n",
       "      <td>software</td>\n",
       "      <td>2005</td>\n",
       "      <td>Pleasanton</td>\n",
       "    </tr>\n",
       "    <tr>\n",
       "      <th>2</th>\n",
       "      <td>Geni</td>\n",
       "      <td>34.090368</td>\n",
       "      <td>-118.393064</td>\n",
       "      <td>USA</td>\n",
       "      <td>{'type': 'Point', 'coordinates': [-118.393064,...</td>\n",
       "      <td>18</td>\n",
       "      <td>web</td>\n",
       "      <td>2006</td>\n",
       "      <td>West Hollywood</td>\n",
       "    </tr>\n",
       "    <tr>\n",
       "      <th>3</th>\n",
       "      <td>Plaxo</td>\n",
       "      <td>37.387845</td>\n",
       "      <td>-122.055197</td>\n",
       "      <td>USA</td>\n",
       "      <td>{'type': 'Point', 'coordinates': [-122.055197,...</td>\n",
       "      <td>50</td>\n",
       "      <td>web</td>\n",
       "      <td>2002</td>\n",
       "      <td>Sunnyvale</td>\n",
       "    </tr>\n",
       "    <tr>\n",
       "      <th>4</th>\n",
       "      <td>eBay</td>\n",
       "      <td>37.295005</td>\n",
       "      <td>-121.930035</td>\n",
       "      <td>USA</td>\n",
       "      <td>{'type': 'Point', 'coordinates': [-121.930035,...</td>\n",
       "      <td>15000</td>\n",
       "      <td>web</td>\n",
       "      <td>1995</td>\n",
       "      <td>San Jose</td>\n",
       "    </tr>\n",
       "  </tbody>\n",
       "</table>\n",
       "</div>"
      ],
      "text/plain": [
       "       name        lat         lng country  \\\n",
       "0  Wetpaint  47.603122 -122.333253     USA   \n",
       "1      Zoho  37.692934 -121.904945     USA   \n",
       "2      Geni  34.090368 -118.393064     USA   \n",
       "3     Plaxo  37.387845 -122.055197     USA   \n",
       "4      eBay  37.295005 -121.930035     USA   \n",
       "\n",
       "                                        headquarters  number_of_employees  \\\n",
       "0  {'type': 'Point', 'coordinates': [-122.333253,...                   47   \n",
       "1  {'type': 'Point', 'coordinates': [-121.904945,...                 1600   \n",
       "2  {'type': 'Point', 'coordinates': [-118.393064,...                   18   \n",
       "3  {'type': 'Point', 'coordinates': [-122.055197,...                   50   \n",
       "4  {'type': 'Point', 'coordinates': [-121.930035,...                15000   \n",
       "\n",
       "  category_code  founded_year            city  \n",
       "0           web          2005         Seattle  \n",
       "1      software          2005      Pleasanton  \n",
       "2           web          2006  West Hollywood  \n",
       "3           web          2002       Sunnyvale  \n",
       "4           web          1995        San Jose  "
      ]
     },
     "execution_count": 35,
     "metadata": {},
     "output_type": "execute_result"
    }
   ],
   "source": [
    "df_geo = pd.concat([df,main_office], axis=1)[[\"name\",\"lat\",\"lng\", \"country\", \"headquarters\",\"number_of_employees\", \"category_code\",\"founded_year\",\"city\"]]\n",
    "df_geo.head()"
   ]
  },
  {
   "cell_type": "markdown",
   "metadata": {},
   "source": [
    "### I delete the null values, which arise from unknown location of offices"
   ]
  },
  {
   "cell_type": "code",
   "execution_count": 36,
   "metadata": {},
   "outputs": [],
   "source": [
    "# Checking and Deleting Nulls of location as it is essential to know it \n",
    "df_geo = df_geo.dropna(subset=['headquarters'])\n"
   ]
  },
  {
   "cell_type": "markdown",
   "metadata": {},
   "source": [
    "## I bin companies in either Old or New w.r.t their founded year, I consider new those from the last 5 years of the database data"
   ]
  },
  {
   "cell_type": "code",
   "execution_count": 37,
   "metadata": {},
   "outputs": [
    {
     "data": {
      "text/plain": [
       "Old    2159\n",
       "New     780\n",
       "Name: age, dtype: int64"
      ]
     },
     "execution_count": 37,
     "metadata": {},
     "output_type": "execute_result"
    }
   ],
   "source": [
    "# Binning companies with regard to OLD or NEW given the founded_year\n",
    "# I acknowledge the dataset ends in 2013, so calculate 10 years from there\n",
    "mpg_labels = ['Old', 'New']\n",
    "cutoffs = [1989,2007,2013]\n",
    "bins = pd.cut(df_geo['founded_year'],cutoffs, labels=mpg_labels)\n",
    "df_geo['age']=bins\n",
    "df_geo.head()\n",
    "df_geo['age'].value_counts()"
   ]
  },
  {
   "cell_type": "markdown",
   "metadata": {},
   "source": [
    "## I save it to a json and continue in Mongo Compass and the Geo-Queries_Near jupyter document"
   ]
  },
  {
   "cell_type": "code",
   "execution_count": 38,
   "metadata": {},
   "outputs": [],
   "source": [
    "# Saving in JSON format \n",
    "df_geob=df_geo.copy()\n",
    "df_geob.to_json('df_geob.json', orient=\"records\")"
   ]
  },
  {
   "cell_type": "code",
   "execution_count": 39,
   "metadata": {},
   "outputs": [
    {
     "data": {
      "text/plain": [
       "(2939, 10)"
      ]
     },
     "execution_count": 39,
     "metadata": {},
     "output_type": "execute_result"
    }
   ],
   "source": [
    "df_geob.shape"
   ]
  },
  {
   "cell_type": "code",
   "execution_count": null,
   "metadata": {},
   "outputs": [],
   "source": []
  },
  {
   "cell_type": "code",
   "execution_count": null,
   "metadata": {},
   "outputs": [],
   "source": []
  }
 ],
 "metadata": {
  "kernelspec": {
   "display_name": "Python 3",
   "language": "python",
   "name": "python3"
  },
  "language_info": {
   "codemirror_mode": {
    "name": "ipython",
    "version": 3
   },
   "file_extension": ".py",
   "mimetype": "text/x-python",
   "name": "python",
   "nbconvert_exporter": "python",
   "pygments_lexer": "ipython3",
   "version": "3.7.3"
  }
 },
 "nbformat": 4,
 "nbformat_minor": 2
}
